{
 "cells": [
  {
   "cell_type": "markdown",
   "metadata": {},
   "source": [
    "# Introduction "
   ]
  },
  {
   "cell_type": "markdown",
   "metadata": {},
   "source": [
    "MongoDB est une base de données open source codée en C++ basée sur un concept de stockage sous la forme de documents au format JSON. Le grand avantage de ce système est l'optimisation de la mémoire. Dans une base relationelle, chaque colonne doit être définie au préalable avec une empreinte mémoire et un type de donnée. Dans une base MongoDB si le champ n'est pas présent, il n'apparait pas dans un document et n'impacte pas la mémoire, alors qu'en SQL la place mémoire est utilisée même si le champ est absent, pour spécifier que la valeur est null."
   ]
  },
  {
   "cell_type": "markdown",
   "metadata": {},
   "source": [
    "## Les avantages "
   ]
  },
  {
   "cell_type": "markdown",
   "metadata": {},
   "source": [
    "- Optimisé pour le multi-machines et la réplication de données ;\n",
    "- Pas besoin de jointures entre les tables compte tenu du modèle de données sous forme de documents ;\n",
    "- Un index est créé sur chaque clé pour une rapidité de requêtes ;\n",
    "- Un langage de requêtage aussi puissant que le SQL ;\n",
    "- Optimisation de la mémoire .\n"
   ]
  },
  {
   "cell_type": "markdown",
   "metadata": {},
   "source": [
    "## Concepts basiques\n"
   ]
  },
  {
   "cell_type": "markdown",
   "metadata": {},
   "source": [
    "\n",
    "- Database : une database est un regroupement de collections. Chaque database possède son propre système de fichiers et sa propre authentification. Elle a le même rôle qu'une database en MySQL.\n",
    "- Collection : une collection est un regroupement de documents. C'est une table en MySQL, la principale différence étant qu'elle ne définit pas un schéma de données fixe. Les documents présents dans une collection n'ont pas forcément tous les mêmes champs.\n",
    "- Document : un document est un objet JSON stocké sous la forme de plusieurs paires clé:valeur. C'est l'équivalent d'une ligne dans une table SQL.\n",
    "- Champ : Un champ est l'équivalent d'une colonne en SQL. Il permet de faire des requêtes."
   ]
  },
  {
   "cell_type": "markdown",
   "metadata": {},
   "source": [
    "## Identifiants"
   ]
  },
  {
   "cell_type": "markdown",
   "metadata": {},
   "source": [
    "Tous les documents possèdent un identifiant unique, ce qui permet de le retrouver très efficacement. L'identifiant peut être spécifié lors de l'ajout d'un nouveau document (nom+prenom, adresse email, url, etc). Dans le cas ou aucun identifiant n'est précisé, MongoDB se charge d'en ajouter un. Il est composé d'un nombre stocké sur 12 bytes au format hexadécimal :\n",
    "\n",
    "- Les 4 premiers bytes sont le timestamp de l'ajout du document\n",
    "- Les 3 suivants correspondent à l'identifiant de la machine\n",
    "- Les 2 suivants l'identifiant du processus\n",
    "- Les 3 derniers sont une valeur incrémentale\n"
   ]
  },
  {
   "cell_type": "markdown",
   "metadata": {},
   "source": [
    "## Les types de données"
   ]
  },
  {
   "cell_type": "markdown",
   "metadata": {},
   "source": [
    "Une base de données MongoDB permet de stocker un grand volume de données hétérogènes sans imposer un modèle de données fixe pour tous les documents. Il est conseillé, comme vu plus haut, de bien définir la structure globale pour garder une cohérence tout au long des développements.\n",
    "\n",
    "- Integer : entier relatif stocké sur 32 ou 64 bits.\n",
    "- Double : nombre décimal stocké sur 64 bits.\n",
    "- String : chaine de caractère (encodée en utf-8)\n",
    "- Booléen : True ou False\n",
    "- Object : sous-objet stocké au format JSON\n",
    "- Date : date au format UNIX (nombre de ms écoulées depuis le 1er janvier 1970) stockée sur 64 bits.\n",
    "- Array : stocker une liste d'éléments au format atomique ou d'objets\n",
    "\n",
    "D'autres types sont disponibles et vous pouvez les trouver https://docs.mongodb.com/manual/reference/bson-types/"
   ]
  },
  {
   "cell_type": "markdown",
   "metadata": {},
   "source": [
    "# Installation\n"
   ]
  },
  {
   "cell_type": "markdown",
   "metadata": {},
   "source": [
    "L'installation peut se faire de plusieurs manières.\n",
    "\n",
    "- Directement depuis les sources ou à partir de packages.  \n",
    "Liens vers le tutorial https://docs.mongodb.com/manual/tutorial/install-mongodb-on-ubuntu/\n",
    "\n",
    "Sur une Debian 9 Stretch:\n",
    "\n",
    "```bash\n",
    "export http_proxy=http://147.215.1.189:3128\n",
    "export https_proxy=http://147.215.1.189:3128\n",
    "apt-get update\n",
    "apt-get install -y mongodb-org\n",
    "```\n",
    "\n",
    "Démarrage du service\n",
    "\n",
    "Vérifier que le service Mongo est démarré\n",
    "\n",
    "```bash\n",
    "> service mongodb status\n",
    "\n",
    "\n",
    "● mongodb.service - An object/document-oriented database\n",
    "   Loaded: loaded (/lib/systemd/system/mongodb.service; enabled; vendor preset:\n",
    "   Active: active (running) since Mon 2018-11-25 13:51:14 CET; 18min ago\n",
    "     Docs: man:mongod(1)\n",
    " Main PID: 22845 (mongod)\n",
    "    Tasks: 16 (limit: 4915)\n",
    "   CGroup: /system.slice/mongodb.service\n",
    "           └─22845 /usr/bin/mongod --unixSocketPrefix=/run/mongodb --config /etc\n",
    "```\n",
    "\n",
    "ou le démarrer avec \n",
    " \n",
    "```bash\n",
    "> service mongodb start\n",
    "```\n",
    "\n",
    "\n",
    "- Ou en instanciant un conteneur Docker. L'avantage de Docker est qu'il n'installe aucune dépendance sur votre machine et laisse son environnement propre. Lien vers le tutorial : https://hub.docker.com/_/mongo/\n",
    "\n",
    "\n",
    "```bash\n",
    "> docker run --name my-mongo -d -p 27017:27017 mongo\n",
    "```\n",
    "\n",
    "Pour vérifier que le conteneur est bien lancé on peut regarder les logs avec\n",
    "\n",
    "\n",
    "```bash\n",
    "> docker logs my-mongo\n",
    "```"
   ]
  },
  {
   "cell_type": "markdown",
   "metadata": {},
   "source": [
    "# Connexion"
   ]
  },
  {
   "cell_type": "markdown",
   "metadata": {},
   "source": [
    "\n",
    "Pour se connecter à une base Mongo deux solutions sont possibles. En ligne de commande ou via un gestionnaire de BDD comme Robo3T https://robomongo.org/ . Dans les deux cas, la syntaxe Mongo est utilisée pour effectuer des requêtes. L'avantage de Robo3T est qu'il possède une interface permettant de visualiser très simplement les données.\n",
    "\n",
    "Dans un terminal utilisateur standard, la commande mongo permet d'obtenir un shell interactif:\n",
    "\n",
    "```bash\n",
    "student@debian:~$ mongo\n",
    "MongoDB shell version: 3.2.11\n",
    "connecting to: test\n",
    ">\n",
    "```\n",
    "\n",
    "Le port par défaut de Mongo est le 27017."
   ]
  },
  {
   "cell_type": "markdown",
   "metadata": {},
   "source": [
    "# Création d'un modèle de données\n"
   ]
  },
  {
   "cell_type": "markdown",
   "metadata": {},
   "source": [
    "La création d'un modèle de données clair et adapté est une tâche importante et primordiale. Ce modèle de données doit être réfléchi à court et long terme et doit prendre en compte la capacité de stockage et les besoins métiers."
   ]
  },
  {
   "cell_type": "markdown",
   "metadata": {},
   "source": [
    "## Database"
   ]
  },
  {
   "cell_type": "markdown",
   "metadata": {},
   "source": [
    "\n",
    "A partir du shell Mongo, on peut afficher les databases disponibles. Au démarrage, aucune n'est créée:\n",
    "```\n",
    "> show dbs\n",
    "admin   0.000GB\n",
    "config  0.000GB\n",
    "local   0.000GB\n",
    "```\n",
    "\n",
    "Aucun database n'est présente\n",
    "```\n",
    "> use test\n",
    "switched to db test\n",
    "```\n",
    "\n",
    "Pour supprimer définitivement une database:\n",
    "\n",
    "```\n",
    "> db.dropDatabase()\n",
    "```\n",
    "Comme vous pouvez le deviner cette commande est à utiliser avec précaution."
   ]
  },
  {
   "cell_type": "markdown",
   "metadata": {},
   "source": [
    "## Collection"
   ]
  },
  {
   "cell_type": "markdown",
   "metadata": {},
   "source": [
    "Les collections correspondent aux tables en SQL. Elles sont des sous-ensembles d'une database. Pour créer une collection il faut auparavant s'être référencé sur une database.\n",
    "\n",
    "```\n",
    "show dbs\n",
    "use <YOUR_DB_NAME>\n",
    "db.createCollection(<YOUR_COLLECTION_NAME>)\n",
    "show collections\n",
    "```\n",
    "\n",
    "Comme pour les databases on peut vouloir supprimer définitivement une collection.\n",
    "\n",
    "```\n",
    "db.<YOUR_COLLECTION_NAME>.drop()\n",
    "show collections\n",
    "```\n"
   ]
  },
  {
   "cell_type": "markdown",
   "metadata": {},
   "source": [
    "## Document"
   ]
  },
  {
   "cell_type": "markdown",
   "metadata": {},
   "source": [
    "Insertion\n",
    "Un document (objet JSON) est un sous-ensemble d'une collection qui est lui même une sous-partie d'une database. Pour insérer un document il faut donc se référencer sur une database et sur la collection souhaitée.\n",
    "\n",
    "```\n",
    "use <YOUR_DB_NAME>\n",
    "db.createCollection(<YOUR_COLLECTION_NAME>)\n",
    "show collections\n",
    "db.<YOUR_COLLECTION_NAME>.insert({\n",
    "    firstname : \"Thomas\",\n",
    "    lastname : \"Shelby\",\n",
    "    position : \"director\",\n",
    "    company : \"Peaky Blinders\"})\n",
    "```\n",
    "\n",
    "Si vous ne précisez pas d'identifiant unique (id du document), MongoDB se charge de le remplir avec les règles définies précédement. Une bonne pratique est de trouver une règle permettant de retrouver facilement et efficacement un document sans avoir à faire une requête complexe et obliger la base à rechercher dans ses champs. Une technique est de prendre le hash d'une combinaison des champs qui permet de créer une clé unique SHA128(firstname+lastname+position) par exemple.\n",
    "\n",
    "```\n",
    "use <YOUR_DB_NAME>\n",
    "show collections\n",
    "db.<YOUR_COLLECTION_NAME>.insert({\n",
    "    firstname : \"Thomas\",\n",
    "    lastname : \"Shelby\",\n",
    "    position : \"CEO\",\n",
    "    gender : \"Male\",\n",
    "    age : 35,\n",
    "    description : \"Thomas 'Tommy' Michael Shelby M.P. OBE, is the leader of the Birmingham criminal gang Peaky Blinders and the patriarch of the Shelby Family. His experiences during and after the First World War have left him disillusioned and determined to move his family up in the world.\",\n",
    "    nicknames : [\"Tom\", \"Tommy\", \"Thomas\"],\n",
    "    company : \"Peaky Blinders\",\n",
    "    episodes : [1,2,4,5,6]\n",
    "    })\n",
    "```\n",
    "Pour des soucis de performances, si un grand nombre de documents doivent être insérés très rapidement sans surcharger les appels réseaux, il est possible de passer une liste JSON d'objets à la fonction insert.\n",
    "\n",
    "```\n",
    "db.<YOUR_COLLECTION_NAME>.insert([\n",
    "{\n",
    "    firstname : \"Arthur\",\n",
    "    lastname : \"Shelby\",\n",
    "    position : \"Associate\",\n",
    "    gender : \"Male\",\n",
    "    age : 38,\n",
    "    description : \"Arthur Shelby Jr. is the eldest of the Shelby siblings and the tough member of Peaky Blinders, the Deputy Vice President Shelby Company Limited. He's also a member of the ICA.\",\n",
    "    company : \"Peaky Blinders\",\n",
    "    episodes : [1,4,6]\n",
    "\n",
    "},{\n",
    "    firstname : \"John\",\n",
    "    lastname : \"Shelby\",\n",
    "    position : \"Associate\",\n",
    "    gender : \"Male\",\n",
    "    age : 30,\n",
    "    description : \"John Michael Shelby, also called Johnny or John Boy, was the third of Shelby siblings and a member of the Peaky Blinders.\",\n",
    "    nicknames : [\"Johnny\", \"John Boy\"],\n",
    "    company : \"Peaky Blinders\",\n",
    "    episodes : [4,5,6]\n",
    "},{\n",
    "    firstname : \"Ada\",\n",
    "    lastname : \"Thorne\",\n",
    "    position : \"HR\",\n",
    "    gender : \"Female\",\n",
    "    age : 28,\n",
    "    description : \"Ada Thorne is the fourth and only female of the Shelby sibling. She's the Head of Acquisitions of the Shelby Company Limited.\",\n",
    "    nicknames : [\"Ada Shelby\"],\n",
    "    company : \"Peaky Blinders\",\n",
    "    episodes : [1,2,6]\n",
    "},{\n",
    "    firstname : \"Michael\",\n",
    "    lastname : \"Gray\",\n",
    "    position : \"Accounting\",\n",
    "    gender : \"Male\",\n",
    "    age : 21,\n",
    "    description : \"Michael Gray is the son of Polly Shelby, his father is dead, and cousin of the Shelby siblings. He is the Chief Accountant in the Shelby Company Limited.\",\n",
    "    nicknames : [\"Henry Johnson\", \"Jobbie Muncher\", \"Mickey\"],\n",
    "    company : \"Peaky Blinders\",\n",
    "    episodes : [5,6]\n",
    "},{\n",
    "    firstname : \"Polly\",\n",
    "    lastname : \"Gray\",\n",
    "    gender : \"Female\",\n",
    "    age : 45,\n",
    "    position : \"CFO\",\n",
    "    description : \"Elizabeth Polly Gray (née Shelby) is the matriarch of the Shelby Family, aunt of the Shelby siblings, the treasurer of the Birmingham criminal gang, the Peaky Blinders, a certified accountant and company treasurer of Shelby Company Limited. \",\n",
    "    nicknames : [\"Aunt Polly\", \"Polly Gray\", \"Elizabeth Gray\", \"Polly Shelby\", \"Pol\"],\n",
    "    company : \"Peaky Blinders\",\n",
    "    episodes : [1,2,5,6]\n",
    "}])\n",
    "```"
   ]
  },
  {
   "cell_type": "code",
   "execution_count": null,
   "metadata": {},
   "outputs": [],
   "source": []
  }
 ],
 "metadata": {
  "kernelspec": {
   "display_name": "Python 3",
   "language": "python",
   "name": "python3"
  },
  "language_info": {
   "codemirror_mode": {
    "name": "ipython",
    "version": 3
   },
   "file_extension": ".py",
   "mimetype": "text/x-python",
   "name": "python",
   "nbconvert_exporter": "python",
   "pygments_lexer": "ipython3",
   "version": "3.6.5"
  },
  "varInspector": {
   "cols": {
    "lenName": 16,
    "lenType": 16,
    "lenVar": 40
   },
   "kernels_config": {
    "python": {
     "delete_cmd_postfix": "",
     "delete_cmd_prefix": "del ",
     "library": "var_list.py",
     "varRefreshCmd": "print(var_dic_list())"
    },
    "r": {
     "delete_cmd_postfix": ") ",
     "delete_cmd_prefix": "rm(",
     "library": "var_list.r",
     "varRefreshCmd": "cat(var_dic_list()) "
    }
   },
   "types_to_exclude": [
    "module",
    "function",
    "builtin_function_or_method",
    "instance",
    "_Feature"
   ],
   "window_display": false
  }
 },
 "nbformat": 4,
 "nbformat_minor": 2
}
