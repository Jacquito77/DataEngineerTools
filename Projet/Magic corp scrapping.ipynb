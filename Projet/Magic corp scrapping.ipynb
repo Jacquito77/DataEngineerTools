{
 "cells": [
  {
   "cell_type": "code",
   "execution_count": 9,
   "metadata": {},
   "outputs": [],
   "source": [
    "import requests\n",
    "import requests\n",
    "from bs4 import BeautifulSoup"
   ]
  },
  {
   "cell_type": "code",
   "execution_count": 7,
   "metadata": {},
   "outputs": [
    {
     "name": "stdout",
     "output_type": "stream",
     "text": [
      "Requirement already satisfied: bs4 in c:\\users\\antoine\\anaconda3\\lib\\site-packages (0.0.1)\n",
      "Requirement already satisfied: beautifulsoup4 in c:\\users\\antoine\\anaconda3\\lib\\site-packages (from bs4) (4.6.0)\n"
     ]
    },
    {
     "name": "stderr",
     "output_type": "stream",
     "text": [
      "You are using pip version 18.1, however version 19.0.1 is available.\n",
      "You should consider upgrading via the 'python -m pip install --upgrade pip' command.\n"
     ]
    }
   ],
   "source": [
    "!pip install bs4"
   ]
  },
  {
   "cell_type": "code",
   "execution_count": 8,
   "metadata": {},
   "outputs": [
    {
     "name": "stdout",
     "output_type": "stream",
     "text": [
      "Requirement already satisfied: lxml in c:\\users\\antoine\\anaconda3\\lib\\site-packages (4.2.1)\n"
     ]
    },
    {
     "name": "stderr",
     "output_type": "stream",
     "text": [
      "You are using pip version 18.1, however version 19.0.1 is available.\n",
      "You should consider upgrading via the 'python -m pip install --upgrade pip' command.\n"
     ]
    }
   ],
   "source": [
    "!pip install lxml"
   ]
  },
  {
   "cell_type": "code",
   "execution_count": 2,
   "metadata": {},
   "outputs": [],
   "source": [
    "class HTTPrequest:\n",
    "    \n",
    "    def __init__(self):\n",
    "        self.userAgent = {'User-Agent': 'Mozilla/5.0 (Macintosh; Intel Mac OS X 10_10_1) AppleWebKit/537.36 (KHTML, like Gecko) Chrome/39.0.2171.95 Safari/537.36'}\n",
    "        self.timeout = 10\n",
    "        \n",
    "    def doRequest(self, url, timeout):\n",
    "        count = 2\n",
    "        timeout = self.timeout if self.timeout else timeout\n",
    "        response = requests.get(url, headers= self.userAgent, timeout = timeout)\n",
    "        status = response.status_code\n",
    "        if not 200 <= status < 300 and count > 0:\n",
    "            self.doRequest\n",
    "            count -= 1\n",
    "        return response.content[0:1000]"
   ]
  },
  {
   "cell_type": "code",
   "execution_count": 4,
   "metadata": {},
   "outputs": [],
   "source": [
    "newRequest = HTTPrequest()"
   ]
  },
  {
   "cell_type": "code",
   "execution_count": 5,
   "metadata": {},
   "outputs": [],
   "source": [
    "url = \"http://www.magiccorporation.com/mc.php?rub=cartes&op=edition&num=225&mode=hybrid\""
   ]
  },
  {
   "cell_type": "code",
   "execution_count": 6,
   "metadata": {},
   "outputs": [
    {
     "data": {
      "text/plain": [
       "b'<!DOCTYPE html PUBLIC \"-//W3C//DTD XHTML 1.0 Transitional//EN\" \"http://www.w3.org/TR/xhtml1/DTD/xhtml1-transitional.dtd\">\\n<html xmlns=\"http://www.w3.org/1999/xhtml\" xml:lang=\"fr\" lang=\"fr\">\\n<head>\\n<title>L&#039;All\\xe9geance de Ravnica</title>\\n<base href=\"http://www.magiccorporation.com/\" />\\n<meta http-equiv=\"Content-Type\" content=\"text/html; charset=ISO-8859-1\" />\\n<meta http-equiv=\"X-UA-Compatible\" content=\"IE=8\" />\\n<meta name=\"keywords\" lang=\"fr\" content=\"\" />\\n<meta name=\"description\" lang=\"fr\" content=\"\" />\\n<meta name=\"generator\" content=\"MagicCorporation WebSystem v6.1 - Copyright (C) 2000-2013 Jean-Christophe TAISNE\" />\\n<meta name=\"google-site-verification\" content=\"QL235BLu6zVhDm6BPcjIGItdjMxdu9lzf739TVp92BQ\" />\\n<link rel=\"stylesheet\" type=\"text/css\" href=\"/mc6/librairies/css/normalize.css\" />\\n<link rel=\"stylesheet\" type=\"text/css\" href=\"/mc6/librairies/css/jquery-ui-1.10.3.custom.css\" />\\n<link rel=\"stylesheet\" type=\"text/css\" href=\"/mc6/librairies/css/style.css?1387991999\" />\\n<link'"
      ]
     },
     "execution_count": 6,
     "metadata": {},
     "output_type": "execute_result"
    }
   ],
   "source": [
    "newRequest.doRequest(url, 15)"
   ]
  },
  {
   "cell_type": "code",
   "execution_count": 12,
   "metadata": {},
   "outputs": [],
   "source": [
    "response = requests.get(\"http://www.magiccorporation.com/mc.php?rub=cartes&op=edition&num=225&mode=hybrid\")\n",
    "soup = BeautifulSoup(response.text, \"lxml\")"
   ]
  },
  {
   "cell_type": "code",
   "execution_count": 20,
   "metadata": {},
   "outputs": [
    {
     "data": {
      "text/plain": [
       "[]"
      ]
     },
     "execution_count": 20,
     "metadata": {},
     "output_type": "execute_result"
    }
   ],
   "source": [
    "soup.find_all(class_= \"hover\")[0:5]"
   ]
  },
  {
   "cell_type": "code",
   "execution_count": 16,
   "metadata": {},
   "outputs": [
    {
     "data": {
      "text/plain": [
       "'\\n\\nL\\'Allégeance de Ravnica\\n\\n\\n\\n\\n\\n\\n\\n\\n\\n\\n\\n\\n\\n\\n\\n\\n\\n\\n\\n\\n\\n\\n\\n\\n\\n\\n$ = jQuery;\\n\\n\\n\\nPseudo : \\nMot de passe : \\n\\nMot de passe oublié ? - Créer un compte\\n\\n\\xa0\\n\\n\\n\\n\\n    Rechercher une carte :  Recherche Avancée \\n\\n\\tfunction myCallbackCarte(li) {\\n        var r=li.value.toLowerCase();\\n\\t\\tr = r.replace(\\'é\\',\"e\");\\n\\t\\tr = r.replace(\\'è\\',\"e\");\\n\\t\\tr = r.replace(\\'ê\\',\"e\");\\n\\t\\tr = r.replace(\\'ë\\',\"e\");\\n\\t\\tr = r.replace(\\'à\\',\"a\");\\n\\t\\tr = r.replace(\\'â\\',\"a\");\\n\\t\\tjQuery(\\'#submit_carte_header\\').attr(\"disabled\", \"true\");      \\n\\t\\twindow.location = \"mc.php?rub=cartes&file=view&popupcard=\" + r;\\n\\t}\\n\\tjQuery(\\'#recherche_carte_header\\').autocomplete(\\'mc.php?rub=cartes&file=ajax&op=completion_carte\\', {minChars: 3, delay: 200, useCache: false, autoFocus: false, onItemSelect: myCallbackCarte});\\n//    .keydown(function(event){\\n//        console.log(event);\\n//      if(event.keyCode == 38) {\\n//        //jQuery(\\'#submit_carte_header\\').attr(\"disabled\", \"true\");    \\n//        console.log(\"tata\");\\n//      }\\n//    });\\n    jQuery(\\'#recherche_carte_header\\').'"
      ]
     },
     "execution_count": 16,
     "metadata": {},
     "output_type": "execute_result"
    }
   ],
   "source": [
    "soup.text[0:1000]"
   ]
  }
 ],
 "metadata": {
  "kernelspec": {
   "display_name": "Python 3",
   "language": "python",
   "name": "python3"
  },
  "language_info": {
   "codemirror_mode": {
    "name": "ipython",
    "version": 3
   },
   "file_extension": ".py",
   "mimetype": "text/x-python",
   "name": "python",
   "nbconvert_exporter": "python",
   "pygments_lexer": "ipython3",
   "version": "3.6.5"
  }
 },
 "nbformat": 4,
 "nbformat_minor": 2
}
